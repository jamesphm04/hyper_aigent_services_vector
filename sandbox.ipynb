{
 "cells": [
  {
   "cell_type": "code",
   "execution_count": 1,
   "metadata": {},
   "outputs": [
    {
     "name": "stdout",
     "output_type": "stream",
     "text": [
      "Adjusting for ambient noise...\n",
      "Listening...\n",
      "Speech detected, processing...\n",
      "Waiting for text from whisper-1...\n",
      "Listening...\n",
      "***********Recognized: 시청해주셔서 감사합니다! 구독 좋아요 댓글 부탁드려요!\n",
      "{'received_message': '시청해주셔서 감사합니다! 구독 좋아요 댓글 부탁드려요!'}\n",
      "Speech detected, processing...\n",
      "Listening...\n",
      "Waiting for text from whisper-1...\n",
      "***********Recognized: Hello.\n",
      "{'received_message': 'Hello.'}\n",
      "Speech detected, processing...\n",
      "Skipping processing. 5.7 seconds until next process.\n",
      "Listening...\n",
      "Speech detected, processing...\n",
      "Skipping processing. 3.1 seconds until next process.\n",
      "Listening...\n",
      "Speech detected, processing...\n",
      "Skipping processing. 1.5 seconds until next process.\n",
      "Listening...\n",
      "Speech detected, processing...\n",
      "Listening...\n",
      "Waiting for text from whisper-1...\n",
      "***********Recognized: you\n",
      "{'received_message': 'you'}\n",
      "Speech detected, processing...\n",
      "Skipping processing. 6.0 seconds until next process.\n",
      "Listening...\n",
      "Speech detected, processing...\n",
      "Listening...\n",
      "Waiting for text from whisper-1...\n",
      "***********Recognized: Ha.\n",
      "{'received_message': 'Ha.'}\n",
      "Speech detected, processing...\n",
      "Listening...\n",
      "Waiting for text from whisper-1...\n",
      "***********Recognized: Hi.\n",
      "{'received_message': 'Hi.'}\n",
      "Speech detected, processing...\n",
      "Skipping processing. 5.2 seconds until next process.\n",
      "Listening...\n",
      "Speech detected, processing...\n",
      "Listening...\n",
      "Waiting for text from whisper-1...\n",
      "***********Recognized: Hi.\n",
      "{'received_message': 'Hi.'}\n",
      "Speech detected, processing...\n",
      "Listening...\n",
      "Waiting for text from whisper-1...\n",
      "***********Recognized: My\n",
      "{'received_message': 'My'}\n",
      "Speech detected, processing...\n",
      "Skipping processing. 8.2 seconds until next process.\n",
      "Listening...\n",
      "Speech detected, processing...\n",
      "Skipping processing. 4.4 seconds until next process.\n",
      "Listening...\n"
     ]
    }
   ],
   "source": [
    "from components.ear.ear import Ear\n",
    "\n",
    "ear = Ear()\n",
    "ear.listen()"
   ]
  },
  {
   "cell_type": "code",
   "execution_count": null,
   "metadata": {},
   "outputs": [],
   "source": []
  }
 ],
 "metadata": {
  "kernelspec": {
   "display_name": ".venv",
   "language": "python",
   "name": "python3"
  },
  "language_info": {
   "codemirror_mode": {
    "name": "ipython",
    "version": 3
   },
   "file_extension": ".py",
   "mimetype": "text/x-python",
   "name": "python",
   "nbconvert_exporter": "python",
   "pygments_lexer": "ipython3",
   "version": "3.12.3"
  }
 },
 "nbformat": 4,
 "nbformat_minor": 2
}
